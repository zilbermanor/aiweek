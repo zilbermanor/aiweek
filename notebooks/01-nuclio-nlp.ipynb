{
 "cells": [
  {
   "cell_type": "markdown",
   "metadata": {},
   "source": [
    "# Hello World - NLP Example"
   ]
  },
  {
   "cell_type": "markdown",
   "metadata": {},
   "source": [
    "Start by importing nuclio to the notebook to enable nuclio's \"Magic Commands\".  \n",
    "Since we don't want nuclio itself to be imported to the function we will use the comment annotation: ``` # nuclio: ignore```.  \n",
    "\n",
    "This will let nuclio know that we do not want this cell included in the function"
   ]
  },
  {
   "cell_type": "code",
   "execution_count": 8,
   "metadata": {},
   "outputs": [],
   "source": [
    "# nuclio: ignore\n",
    "# if the nuclio-jupyter package is not installed run !pip install nuclio-jupyter\n",
    "import nuclio "
   ]
  },
  {
   "cell_type": "markdown",
   "metadata": {},
   "source": [
    "# Define environment"
   ]
  },
  {
   "cell_type": "markdown",
   "metadata": {},
   "source": [
    "## Build commands"
   ]
  },
  {
   "cell_type": "code",
   "execution_count": 12,
   "metadata": {},
   "outputs": [
    {
     "name": "stdout",
     "output_type": "stream",
     "text": [
      "Requirement already satisfied: textblob in /User/.pythonlibs/lib/python3.6/site-packages (0.15.3)\n",
      "Requirement already satisfied: nltk>=3.1 in /User/.pythonlibs/lib/python3.6/site-packages (from textblob) (3.4.5)\n",
      "Requirement already satisfied: six in /User/.pythonlibs/lib/python3.6/site-packages (from nltk>=3.1->textblob) (1.13.0)\n",
      "\u001b[33mWARNING: You are using pip version 19.1.1, however version 19.3.1 is available.\n",
      "You should consider upgrading via the 'pip install --upgrade pip' command.\u001b[0m\n"
     ]
    }
   ],
   "source": [
    "%nuclio cmd pip3 install textblob"
   ]
  },
  {
   "cell_type": "markdown",
   "metadata": {},
   "source": [
    "## Environment variables"
   ]
  },
  {
   "cell_type": "code",
   "execution_count": 13,
   "metadata": {},
   "outputs": [
    {
     "name": "stdout",
     "output_type": "stream",
     "text": [
      "%nuclio: setting 'TO_LANG' environment variable\n"
     ]
    }
   ],
   "source": [
    "%nuclio env -l TO_LANG=fr\n",
    "%nuclio env -c TO_LANG=es"
   ]
  },
  {
   "cell_type": "code",
   "execution_count": 14,
   "metadata": {},
   "outputs": [],
   "source": [
    "from textblob import TextBlob\n",
    "import os\n",
    "\n",
    "def handler(context, event):\n",
    "    context.logger.info('This is an NLP example! ')\n",
    "\n",
    "    # process and correct the text\n",
    "    blob = TextBlob(str(event.body.decode('utf-8')))\n",
    "    corrected = blob.correct()\n",
    "\n",
    "    # debug print the text before and after correction\n",
    "    context.logger.info_with(\"Corrected text\", corrected=str(corrected), orig=str(blob))\n",
    "\n",
    "    # calculate sentiments\n",
    "    context.logger.info_with(\"Sentiment\",\n",
    "                             polarity=str(corrected.sentiment.polarity),\n",
    "                             subjectivity=str(corrected.sentiment.subjectivity))\n",
    "\n",
    "    # read target language from environment and return translated text\n",
    "    lang = os.getenv('TO_LANG','fr')\n",
    "    return str(corrected.translate(to=lang))"
   ]
  },
  {
   "cell_type": "code",
   "execution_count": 5,
   "metadata": {},
   "outputs": [],
   "source": [
    "# nuclio: end-code"
   ]
  },
  {
   "cell_type": "code",
   "execution_count": 17,
   "metadata": {},
   "outputs": [
    {
     "name": "stdout",
     "output_type": "stream",
     "text": [
      "Python> 2019-11-17 12:57:51,243 [info] This is an NLP example! \n",
      "Python> 2019-11-17 12:57:51,245 [info] Corrected text: {'corrected': 'Have a great day with your friend!', 'orig': 'Have a great day with your friens!'}\n",
      "Python> 2019-11-17 12:57:51,246 [info] Sentiment: {'polarity': '1.0', 'subjectivity': '0.75'}\n"
     ]
    },
    {
     "data": {
      "text/plain": [
       "'Passez une bonne journée avec votre ami!'"
      ]
     },
     "execution_count": 17,
     "metadata": {},
     "output_type": "execute_result"
    }
   ],
   "source": [
    "# nuclio: ignore\n",
    "event = nuclio.Event(body=b\"Have a great day with your friens!\")\n",
    "handler(context, event)"
   ]
  },
  {
   "cell_type": "markdown",
   "metadata": {},
   "source": [
    "### Before deploying the function\n",
    "Open up the Jupyter shell and run the following <br>\n",
    "pip install --upgrade nuclio-jupyter"
   ]
  },
  {
   "cell_type": "code",
   "execution_count": 18,
   "metadata": {},
   "outputs": [
    {
     "name": "stdout",
     "output_type": "stream",
     "text": [
      "[nuclio.deploy] 2019-11-17 12:58:45,222 (info) Building processor image\n",
      "[nuclio.deploy] 2019-11-17 12:58:50,273 (info) Build complete\n",
      "[nuclio.deploy] 2019-11-17 12:58:54,311 (info) Function deploy complete\n",
      "[nuclio.deploy] 2019-11-17 12:58:54,316 done updating nlp, function address: 18.222.4.56:30450\n",
      "%nuclio: function deployed\n"
     ]
    }
   ],
   "source": [
    "%nuclio deploy -n nlp -p ai"
   ]
  },
  {
   "cell_type": "code",
   "execution_count": 19,
   "metadata": {},
   "outputs": [
    {
     "name": "stdout",
     "output_type": "stream",
     "text": [
      "¡Que tengas un gran día con tus amigos!"
     ]
    }
   ],
   "source": [
    "# Run a test with the new function. Replace the \"function URL\" with the actual URL:Port\n",
    "# In order to get the function URL go to the Dashboard --> Functions --> drill down to project ai and then to the nlp function --> go to the Status tab \n",
    "\n",
    "!curl -X POST -d \"Have a great day with your friends!\" 18.222.4.56:30450"
   ]
  },
  {
   "cell_type": "code",
   "execution_count": 20,
   "metadata": {},
   "outputs": [
    {
     "name": "stdout",
     "output_type": "stream",
     "text": [
      "%nuclio: notebook 01-nuclio-nlp exported\n",
      "Config:\n",
      "apiVersion: nuclio.io/v1\n",
      "kind: Function\n",
      "metadata:\n",
      "  annotations:\n",
      "    nuclio.io/generated_by: function generated at 17-11-2019 by admin from /User/ai-week/01-nuclio-nlp.ipynb\n",
      "  labels: {}\n",
      "  name: 01-nuclio-nlp\n",
      "spec:\n",
      "  build:\n",
      "    commands:\n",
      "    - pip3 install textblob\n",
      "    functionSourceCode: IyBHZW5lcmF0ZWQgYnkgbnVjbGlvLmV4cG9ydC5OdWNsaW9FeHBvcnRlciBvbiAyMDE5LTExLTE3IDEzOjEzCgpmcm9tIHRleHRibG9iIGltcG9ydCBUZXh0QmxvYgppbXBvcnQgb3MKCmRlZiBoYW5kbGVyKGNvbnRleHQsIGV2ZW50KToKICAgIGNvbnRleHQubG9nZ2VyLmluZm8oJ1RoaXMgaXMgYW4gTkxQIGV4YW1wbGUhICcpCgogICAgYmxvYiA9IFRleHRCbG9iKHN0cihldmVudC5ib2R5LmRlY29kZSgndXRmLTgnKSkpCiAgICBjb3JyZWN0ZWQgPSBibG9iLmNvcnJlY3QoKQoKICAgIGNvbnRleHQubG9nZ2VyLmluZm9fd2l0aCgiQ29ycmVjdGVkIHRleHQiLCBjb3JyZWN0ZWQ9c3RyKGNvcnJlY3RlZCksIG9yaWc9c3RyKGJsb2IpKQoKICAgIGNvbnRleHQubG9nZ2VyLmluZm9fd2l0aCgiU2VudGltZW50IiwKICAgICAgICAgICAgICAgICAgICAgICAgICAgICBwb2xhcml0eT1zdHIoY29ycmVjdGVkLnNlbnRpbWVudC5wb2xhcml0eSksCiAgICAgICAgICAgICAgICAgICAgICAgICAgICAgc3ViamVjdGl2aXR5PXN0cihjb3JyZWN0ZWQuc2VudGltZW50LnN1YmplY3Rpdml0eSkpCgogICAgbGFuZyA9IG9zLmdldGVudignVE9fTEFORycsJ2ZyJykKICAgIHJldHVybiBzdHIoY29ycmVjdGVkLnRyYW5zbGF0ZSh0bz1sYW5nKSkKCg==\n",
      "    noBaseImagesPull: true\n",
      "  env:\n",
      "  - name: TO_LANG\n",
      "    value: es\n",
      "  handler: 01-nuclio-nlp:handler\n",
      "  runtime: python:3.6\n",
      "  volumes: []\n",
      "\n",
      "Code:\n",
      "# Generated by nuclio.export.NuclioExporter on 2019-11-17 13:13\n",
      "\n",
      "from textblob import TextBlob\n",
      "import os\n",
      "\n",
      "def handler(context, event):\n",
      "    context.logger.info('This is an NLP example! ')\n",
      "\n",
      "    blob = TextBlob(str(event.body.decode('utf-8')))\n",
      "    corrected = blob.correct()\n",
      "\n",
      "    context.logger.info_with(\"Corrected text\", corrected=str(corrected), orig=str(blob))\n",
      "\n",
      "    context.logger.info_with(\"Sentiment\",\n",
      "                             polarity=str(corrected.sentiment.polarity),\n",
      "                             subjectivity=str(corrected.sentiment.subjectivity))\n",
      "\n",
      "    lang = os.getenv('TO_LANG','fr')\n",
      "    return str(corrected.translate(to=lang))\n",
      "\n",
      "\n"
     ]
    }
   ],
   "source": [
    "%nuclio show"
   ]
  },
  {
   "cell_type": "code",
   "execution_count": null,
   "metadata": {},
   "outputs": [],
   "source": []
  }
 ],
 "metadata": {
  "kernelspec": {
   "display_name": "Python 3",
   "language": "python",
   "name": "python3"
  },
  "language_info": {
   "codemirror_mode": {
    "name": "ipython",
    "version": 3
   },
   "file_extension": ".py",
   "mimetype": "text/x-python",
   "name": "python",
   "nbconvert_exporter": "python",
   "pygments_lexer": "ipython3",
   "version": "3.6.8"
  }
 },
 "nbformat": 4,
 "nbformat_minor": 4
}

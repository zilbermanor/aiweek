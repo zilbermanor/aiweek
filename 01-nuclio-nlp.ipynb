{
 "cells": [
  {
   "cell_type": "markdown",
   "metadata": {},
   "source": [
    "# Hello World - NLP Example"
   ]
  },
  {
   "cell_type": "markdown",
   "metadata": {},
   "source": [
    "Start by importing nuclio to the notebook to enable nuclio's \"Magic Commands\".  \n",
    "Since we don't want nuclio itself to be imported to the function we will use the comment annotation: ``` # nuclio: ignore```.  \n",
    "\n",
    "This will let nuclio know that we do not want this cell included in the function"
   ]
  },
  {
   "cell_type": "code",
   "execution_count": 1,
   "metadata": {},
   "outputs": [],
   "source": [
    "# nuclio: ignore\n",
    "# if the nuclio-jupyter package is not installed run !pip install nuclio-jupyter\n",
    "import nuclio "
   ]
  },
  {
   "cell_type": "markdown",
   "metadata": {},
   "source": [
    "# Define environment"
   ]
  },
  {
   "cell_type": "markdown",
   "metadata": {},
   "source": [
    "## Build commands"
   ]
  },
  {
   "cell_type": "code",
   "execution_count": 2,
   "metadata": {},
   "outputs": [],
   "source": [
    "%nuclio cmd -c pip3 install textblob"
   ]
  },
  {
   "cell_type": "markdown",
   "metadata": {},
   "source": [
    "## Environment variables"
   ]
  },
  {
   "cell_type": "code",
   "execution_count": 3,
   "metadata": {},
   "outputs": [
    {
     "name": "stdout",
     "output_type": "stream",
     "text": [
      "%nuclio: setting 'TO_LANG' environment variable\n"
     ]
    }
   ],
   "source": [
    "%nuclio env -l TO_LANG=fr\n",
    "%nuclio env -c TO_LANG=es"
   ]
  },
  {
   "cell_type": "code",
   "execution_count": 4,
   "metadata": {},
   "outputs": [],
   "source": [
    "from textblob import TextBlob\n",
    "import os\n",
    "\n",
    "def handler(context, event):\n",
    "    context.logger.info('This is an NLP example! ')\n",
    "\n",
    "    # process and correct the text\n",
    "    blob = TextBlob(str(event.body.decode('utf-8')))\n",
    "    corrected = blob.correct()\n",
    "\n",
    "    # debug print the text before and after correction\n",
    "    context.logger.info_with(\"Corrected text\", corrected=str(corrected), orig=str(blob))\n",
    "\n",
    "    # calculate sentiments\n",
    "    context.logger.info_with(\"Sentiment\",\n",
    "                             polarity=str(corrected.sentiment.polarity),\n",
    "                             subjectivity=str(corrected.sentiment.subjectivity))\n",
    "\n",
    "    # read target language from environment and return translated text\n",
    "    lang = os.getenv('TO_LANG','fr')\n",
    "    return str(corrected.translate(to=lang))"
   ]
  },
  {
   "cell_type": "code",
   "execution_count": 5,
   "metadata": {},
   "outputs": [],
   "source": [
    "# nuclio: end-code"
   ]
  },
  {
   "cell_type": "code",
   "execution_count": 6,
   "metadata": {},
   "outputs": [
    {
     "name": "stdout",
     "output_type": "stream",
     "text": [
      "Python> 2019-11-17 10:33:02,134 [info] This is an NLP example! \n",
      "Python> 2019-11-17 10:33:02,188 [info] Corrected text: {'corrected': 'Have a great day with your friends!', 'orig': 'Have a great day with your friends!'}\n",
      "Python> 2019-11-17 10:33:02,236 [info] Sentiment: {'polarity': '1.0', 'subjectivity': '0.75'}\n"
     ]
    },
    {
     "data": {
      "text/plain": [
       "'Passez une bonne journée avec vos amis!'"
      ]
     },
     "execution_count": 6,
     "metadata": {},
     "output_type": "execute_result"
    }
   ],
   "source": [
    "# nuclio: ignore\n",
    "event = nuclio.Event(body=b\"Have a great day with your friends!\")\n",
    "handler(context, event)"
   ]
  },
  {
   "cell_type": "markdown",
   "metadata": {},
   "source": [
    "### Before deploying the function\n",
    "Open up the Jupyter shell and run the following <br>\n",
    "pip install --upgrade nuclio-jupyter"
   ]
  },
  {
   "cell_type": "code",
   "execution_count": 14,
   "metadata": {},
   "outputs": [
    {
     "name": "stdout",
     "output_type": "stream",
     "text": [
      "[nuclio.deploy] 2019-11-16 06:45:40,553 (info) Building processor image\n",
      "[nuclio.deploy] 2019-11-16 06:45:45,593 (info) Build complete\n",
      "[nuclio.deploy] 2019-11-16 06:45:49,626 (info) Function deploy complete\n",
      "[nuclio.deploy] 2019-11-16 06:45:49,635 done updating nlp, function address: 18.222.4.56:30450\n",
      "%nuclio: function deployed\n"
     ]
    }
   ],
   "source": [
    "%nuclio deploy -n nlp -p ai"
   ]
  },
  {
   "cell_type": "code",
   "execution_count": 7,
   "metadata": {},
   "outputs": [
    {
     "name": "stdout",
     "output_type": "stream",
     "text": [
      "¡Que tengas un gran día con tus amigos!"
     ]
    }
   ],
   "source": [
    "# Run a test with the new function. Replace the \"function URL\" with the actual URL:Port\n",
    "# In order to get the function URL go to the Dashboard --> Functions --> drill down to project ai and then to the nlp function --> go to the Status tab \n",
    "\n",
    "!curl -X POST -d \"Have a great day with your friends!\" 18.222.4.56:30450"
   ]
  },
  {
   "cell_type": "code",
   "execution_count": null,
   "metadata": {},
   "outputs": [],
   "source": []
  }
 ],
 "metadata": {
  "kernelspec": {
   "display_name": "Python 3",
   "language": "python",
   "name": "python3"
  },
  "language_info": {
   "codemirror_mode": {
    "name": "ipython",
    "version": 3
   },
   "file_extension": ".py",
   "mimetype": "text/x-python",
   "name": "python",
   "nbconvert_exporter": "python",
   "pygments_lexer": "ipython3",
   "version": "3.6.8"
  }
 },
 "nbformat": 4,
 "nbformat_minor": 4
}
